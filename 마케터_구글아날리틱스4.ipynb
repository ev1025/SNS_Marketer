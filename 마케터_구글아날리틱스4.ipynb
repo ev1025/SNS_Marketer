{
  "nbformat": 4,
  "nbformat_minor": 0,
  "metadata": {
    "colab": {
      "provenance": [],
      "authorship_tag": "ABX9TyMCugz8T9wDv0SvEDWqbNOv",
      "include_colab_link": true
    },
    "kernelspec": {
      "name": "python3",
      "display_name": "Python 3"
    },
    "language_info": {
      "name": "python"
    }
  },
  "cells": [
    {
      "cell_type": "markdown",
      "metadata": {
        "id": "view-in-github",
        "colab_type": "text"
      },
      "source": [
        "<a href=\"https://colab.research.google.com/github/ev1025/SNS_Marketer/blob/main/%EB%A7%88%EC%BC%80%ED%84%B0_%EA%B5%AC%EA%B8%80%EC%95%84%EB%82%A0%EB%A6%AC%ED%8B%B1%EC%8A%A44.ipynb\" target=\"_parent\"><img src=\"https://colab.research.google.com/assets/colab-badge.svg\" alt=\"Open In Colab\"/></a>"
      ]
    },
    {
      "cell_type": "markdown",
      "source": [
        "- 적절한 타겟, 시간, 채널, 메세지를 잘 설정하면 마케팅을 잘할 수 있다.\n",
        "- 심슨패러독스 : 세그먼트를 나누지 않으면 잘못된 분석결과가 나올 수 있다\n",
        "- 스트림 :\n",
        "- 전환정보는 직접 코드를 심어줘야 수집할 수 있다."
      ],
      "metadata": {
        "id": "COQ6IYcUqPYp"
      }
    },
    {
      "cell_type": "markdown",
      "source": [
        "**다양한 기기로 접속하는 사용자를 식별하는 방법**\n",
        "1. 사이트의 로그인 정보를 사용\n",
        "2. 구글 시그널 : 구글 서비스의 고객정보를 사용하여 다양한 기기나 브라우저로 들어오는 고객을 그룹핑해주는 기능\n",
        "3. 쿠키정보를 사용"
      ],
      "metadata": {
        "id": "JT9Kywt7PTlE"
      }
    },
    {
      "cell_type": "markdown",
      "source": [
        "### 계정"
      ],
      "metadata": {
        "id": "etHJdmZCyzkB"
      }
    },
    {
      "cell_type": "markdown",
      "source": [
        "\n",
        "- **권한주기** : 설정 - 계정엑세스 - 오른쪽위 + 에서 권한 줄 수있다.\n",
        "- **속성(Property)**\n",
        "    - 사이트별로 속성을 따로 만들어서 쓴다.(블로그, 홈페이지 등)\n",
        "    - **추적코드 위치** : 설정 - 속성 - 데이터스트림 - 클릭 - 맨아래 태그안내보기 - 직접설치탭 - 복사 -> 헤더에 복붙\n",
        "    - 추적코드를 Header에 심는 이유는 모든 페이지의 데이터를 수집하기 위해서\n",
        "        - **데이터스트림** : 데이터 출처(웹스트림, 안드로이드 스트림, ios스트림) 최대 50개(앱최대30개 포함)\n"
      ],
      "metadata": {
        "id": "_MP5wCxc7lVb"
      }
    },
    {
      "cell_type": "markdown",
      "source": [
        "### 보고서\n",
        "- 행 : 측정기준(Dimensions) / 열 : 측정항목(metrics)\n",
        "- 유저(인구통계학정보)\n",
        "- 기술(사용기기)"
      ],
      "metadata": {
        "id": "kJMLMm_gyw7B"
      }
    },
    {
      "cell_type": "markdown",
      "source": [
        "#### **용어**\n",
        "- 세션수(session_start 이벤트 트리거 수)([링크](https://support.google.com/analytics/answer/2731565?hl=ko#zippy=%2C%EC%9D%B4-%EB%8F%84%EC%9B%80%EB%A7%90%EC%97%90-%EB%82%98%EC%99%80-%EC%9E%88%EB%8A%94-%EB%82%B4%EC%9A%A9%EC%9D%80-%EB%8B%A4%EC%9D%8C%EA%B3%BC-%EA%B0%99%EC%8A%B5%EB%8B%88%EB%8B%A4))\n",
        "    - 방문 후 다음 방문까지 30분의 텀이 있어야한다.\n",
        "        - 하루종일 들어와 있으면 1session\n",
        "        - 아침, 점심, 저녁에 10분씩 들어와 있으면 3session\n",
        "- 참여 세션수(engagement session)\n",
        "    - 10초이상 페이지에 머물러있거나, 2회이상 페이지 조회한 경우 1세션으로 카운팅\n",
        "    - 30분이 지난 후에 또 +1세션\n",
        "\n",
        "- item : 항목(상품)\n",
        "\n"
      ],
      "metadata": {
        "id": "rJAZ2U0CbGBN"
      }
    },
    {
      "cell_type": "markdown",
      "source": [
        "#### **획득(채널)**\n",
        "- GA는 두 가지 정보를 수집함\n",
        "    - page_referrer(이전페이지 주소)\n",
        "    - page_location(현재 페이지 주소)\n",
        "- 트래픽획득\n",
        "    - [세션 기본채널그룹](https://support.google.com/analytics/answer/9756891?hl=ko) : 위의 매체와 소스를 GA에서 묶어준것\n",
        "        - medium을 ga에서 지정한 것으로 설정하지 않으면, unassigned로 지정됨(특히 sa =>cpc, da=>display)\n",
        "    - Source(유입출처) : 직전페이지 도메인(구글, 네이버..)\n",
        "    - 매체(medium)\n",
        "        - GA가 자동으로 수집할 수 있는 매체\n",
        "            - referrer가 없는 경우 : none (직접)\n",
        "            - referrer가 있는 경우 : organic(검색엔진), referral(링크)\n",
        "        - 매체종류(수동으로 적용하는 경우 다 달라질 수 있다.)\n",
        "            - none/direct : 직접(주소창에 직접입력, referral(이전페이지주소)이 없는 경우)\n",
        "            - cpc : 광고를 타고 들어오는 경우(통상적으로 검색광고이나 배너광고도 들어갈 수 있다.)\n",
        "            - organic : 자연검색(검색엔진) + 검색광고\n",
        "                1. 네이버에 검색해서 공식홈 링크 누른 경우\n",
        "                2. 검색광고 (paid광고=파워링크같은거)\n",
        "                **GA는 이전 페이지 정보를 수집하여 매체를 구분한다.**   \n",
        "                - organic과 paid를 구분하지 못한다.\n",
        "                    - 이니스프리를 검색했을 때 공식홈링크, 파워링크의 이전 페이지가 같기 때문\n",
        "                    - page_location(현재페이지)에 캠페인을 심어서 유입을 구분할 수 있게 된다.\n",
        "            - referrer : 다른 웹사이트 링크로 유입(검색결과 페이지를 제외한 cpc로 지정되지 않은 모든 광고나 배너 링크들)    \n",
        "            - 사용자의 지정에 따라 제휴, 배너광고도 referrer이나 cpc가 될 수 있다.\n",
        "            - display : 배너광고 (주로 cpm, banner로 쓰나 cpc로도 쓸 수 있다.)\n",
        "            - affiliate : 제휴\n"
      ],
      "metadata": {
        "id": "OPNOmlYuHFxJ"
      }
    },
    {
      "cell_type": "markdown",
      "source": [
        "#### **참여도(액션)**\n",
        "- 이벤트(행동) : 유저의 행동\n",
        "    - 검색이 많이 된 검색어\n",
        "        - view_search_results를 검색하고, 보조측정기준으로 search_term을 선택\n",
        "        - view_search_results : 검색 액션\n",
        "        - search_term : 검색어를 기록함\n",
        "    - 가장 많이 사용된 결제방식\n",
        "        - perchase를 검색하고, 보조측정기준으로 payment_type을 선택\n",
        "- 이벤트 매개변수\n",
        "    - 이벤트에 추가적으로 수집할 수 있는 정보로 최대 25개 까지 추가 가능\n",
        "- 사용자속성(user properties)\n",
        "    - 이벤트를 행한 사용자 정보"
      ],
      "metadata": {
        "id": "vV0fWywP-dOD"
      }
    },
    {
      "cell_type": "markdown",
      "source": [
        "#### **수익창출(전환)**\n",
        "- 전자상거래 구매 : 구매상품 이름을 나타냄\n"
      ],
      "metadata": {
        "id": "WsEmeK_MILBw"
      }
    },
    {
      "cell_type": "markdown",
      "source": [
        "#### Campaign\n",
        "- term : 검색어\n",
        "- content : 광고 구분값(광고 분류기준)\n",
        "- source : 이전 도메인\n",
        "- medium : 유입경로"
      ],
      "metadata": {
        "id": "qoQGoV1yKzrG"
      }
    },
    {
      "cell_type": "markdown",
      "source": [
        "### 이벤트 수집설정\n"
      ],
      "metadata": {
        "id": "Bf-Z-fG796Hr"
      }
    },
    {
      "cell_type": "markdown",
      "source": [
        "**GA 이벤트 디버깅하는 방법([Google Analytics Debugger](https://chrome.google.com/webstore/detail/google-analytics-debugger/jnkmfdileelhofjcijamephohjechhna/related?hl=ko))**\n",
        "- 설정- Debug View 에서 수집정보 실시간 확인가능\n",
        "- 광고 막는 확장프로그램이나 금융사 보안프로그램이 있으면 작동을 안할수도 있다."
      ],
      "metadata": {
        "id": "mh6mejEUHX-J"
      }
    },
    {
      "cell_type": "markdown",
      "source": [
        "**자동수집**\n",
        "- 무조건 수집\n",
        "    - 첫 방문 : first_visit(처음만)\n",
        "    - 방문할 때 : session_start와 page_view가 카운팅됨\n",
        "\n",
        "\n",
        "- 향상된 측정(자동수집 옵션 수정)\n",
        "    - 설정- 속성 - 데이터 스트림- 누르기 - 이벤트탭 - 향상된 측정 - 필요 없는 사항 선택 해제\n",
        "    - user_engagement : 세션 카운팅 될때\n",
        "    - click : engagement측면으로 해석\n",
        "    - scoll 등\n",
        "\n"
      ],
      "metadata": {
        "id": "FOKvRM6eHVEh"
      }
    },
    {
      "cell_type": "markdown",
      "source": [
        "**수동수집(직접 설정해줘야되는 데이터)**\n",
        "- 전환데이터(purchase, add to cart view item list 등..)\n",
        "- CTA(Call To Action) : 장바구니, 프로모션,배너,컨텐츠 등\n",
        "- 구글에서 권장하는 이벤트 이름([링크](https://support.google.com/analytics/answer/9267735?hl=ko))\n",
        "- 이벤트 매개변수 설정하는 태그 작성법([링크](https://developers.google.com/analytics/devguides/collection/ga4/event-parameters?sjid=9202092053199574934-AP&hl=ko&client_type=gtag))\n",
        "```\n",
        "gtag('event', '이벤트이름', {\n",
        "  '이벤트매개변수1': '매개항목이름1',\n",
        "  '이벤트매개변수2': '매개항목이름2'\n",
        "});\n",
        "```\n",
        "- Omnibug 크롬확장프로그램 : F12- 오른쪽 위 >>>클릭 - Omnibug에서 해당 홈페이지의 태그 확인 가능([링크](https://chrome.google.com/webstore/detail/omnibug/bknpehncffejahipecakbfkomebjmokl/related?hl=ko-KR))\n",
        "    "
      ],
      "metadata": {
        "id": "zBExFwPalgPr"
      }
    },
    {
      "cell_type": "markdown",
      "source": [
        "**이벤트 만들기**"
      ],
      "metadata": {
        "id": "CzksbO_ym93f"
      }
    },
    {
      "cell_type": "markdown",
      "source": [
        "- 설정 - 속성 - 이벤트 - 이벤트 만들기\n"
      ],
      "metadata": {
        "id": "7t83ieaMnER2"
      }
    },
    {
      "cell_type": "markdown",
      "source": [
        "**원하는 이벤트를 전환으로 나타내는 방법**\n",
        "- 회원가입 전환 발생 시키는 방법\n",
        "    - 맞춤 이벤트 이름 : 회원가입\n",
        "    - 일치조건\n",
        "        - 매개변수 event_name, page_view\n",
        "        - 매개변수 page_location, 페이지 주소\n",
        "        - 페이지뷰가 발생하고, page_location(현재페이지)가 내가 지정한 페이지 주소(회원가입완료페이지)이면 회원가입 이벤트 발생\n",
        "\n",
        "- 자동으로 전환으로 잡히게 설정하는 방법     \n",
        "\n",
        "![화면 캡처 2023-07-14 132610.png](data:image/png;base64,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)    \n",
        "    **이벤트 만들기에서 레버 on으로 설정해두면 자동으로 전환으로 뜸**\n",
        "![화면 캡처 2023-07-14 132639.png](data:image/png;base64,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)"
      ],
      "metadata": {
        "id": "qZWHsweloHhB"
      }
    },
    {
      "cell_type": "markdown",
      "source": [
        "**맞춤정의**\n",
        "- 수집한 이벤트 매개변수가 무슨 매개변수인지 정의하는 기능\n",
        "    - 최대 50개까지 수집가능\n",
        "    - 보고서의 보조측정도구(+)에 있는 맞춤에서 확인할 수 있다.(검색어 같은것)   \n",
        "    EX) 방을 구하는 서비스에서 고객이 선택한 정보들을 따로 이벤트로 지정할 수 있다.(빌라, 10평, 방2개 등등..)\n",
        "- 설정 - 맞춤정의 - 새 맞춤 측정기준 만들기\n",
        "\n"
      ],
      "metadata": {
        "id": "8cyDCRVVq47E"
      }
    },
    {
      "cell_type": "markdown",
      "source": [
        "### 캠페인설정"
      ],
      "metadata": {
        "id": "1wEOEcLnt63h"
      }
    },
    {
      "cell_type": "markdown",
      "source": [
        "- 캠페인 : 외부링크(page_referrer)로 들어온은 구별하지 못하여 현재사이트 링크(page_location) 뒤에 분류를 위해 붙이는 것\n",
        "- [URL빌더](https://ga-dev-tools.google/campaign-url-builder/)\n",
        "- 키워드\n",
        "    - 대량을 생산해야 하므로 엑셀매크로로 생성\n",
        "    - 소문자 사용할 것\n",
        "    - 태그명칭을 표준화할 것\n",
        "- 광고 컨텐츠, 키워드를 보고 싶으면\n",
        "    - 보고서- 획득 -트래픽획득 - 보조측정도구(+) - 트래픽소스 - 세션수동 광고 콘텐츠, 세션 수동 검색어\n",
        "- 보고서 - 트래픽획득 - 세션 기본채널그룹\n",
        "    - 위의 매체와 소스를 GA에서 묶어준것\n",
        "    - medium을 ga에서 지정한 것으로 설정하지 않으면, unassigned로 지정됨(특히 sa =>cpc, da=>display)\n",
        "    - [세션 기본채널그룹](https://support.google.com/analytics/answer/9756891?hl=ko)의 수동에 있는 대로 입력해야 구글에서 자동지정해줌\n"
      ],
      "metadata": {
        "id": "UwgTKYa4t9dx"
      }
    },
    {
      "cell_type": "markdown",
      "source": [
        "### 속성(Property)설정"
      ],
      "metadata": {
        "id": "P0qFNnDx_68X"
      }
    },
    {
      "cell_type": "markdown",
      "source": [
        "**설정 - 속성 - 데이터스트림 (내부직원의 IP를 제외시키는 방법)**\n",
        "- 데이터스트림 - 스트림을 클릭 - 태그 설정구성 - 모두표시 -  내부트래픽 정의 - 만들기   \n",
        "(ip주소에 ip주소가 다음과 같음 선택, 오른쪽에 ip주소 입력)\n",
        "- 위 과정을 거치면 traffic_type = internal로 자료 수집되어 나중에 데이터를 확인할 때 필터처리하고 확인\n",
        "- 설정 - 속성 - 데이터 필터에서 비활성화 시키면 traffic_type을 필터처리 하지 않아도 된다.(대신, Debug_View를 사용하지 못함)\n",
        "\n",
        "**설정 - 속성 - 데이터 설정**\n",
        "- 데이터 수집\n",
        "    - 로그인 정보가 없을때, 다양한 기기로 들어오는 사용자를 그룹핑 해주는 작업\n",
        "    - 이 기능이 꺼져있으면 보고서에서 인구통계데이터를 볼 수 없음\n",
        "    - 구글시그널 : 구글 계정설정 - 개인정보 보호및 맞춤설정 - 맞춤설정된 광고 - 사용(100% 정확하지는 않음)\n",
        "- 데이터 보관 : 반드시 14개월 설정\n",
        "\n",
        "**설정 - 속성 - 기여 분석 설정**\n",
        "- 직접전환, 간접전환(노출된 광고와 전환을 유도한 광고)"
      ],
      "metadata": {
        "id": "VB3ApAhd_8aO"
      }
    }
  ]
}