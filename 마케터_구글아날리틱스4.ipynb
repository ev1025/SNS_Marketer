{
  "nbformat": 4,
  "nbformat_minor": 0,
  "metadata": {
    "colab": {
      "provenance": [],
      "authorship_tag": "ABX9TyMjOJWsW7fCeFbUzPisdaaB",
      "include_colab_link": true
    },
    "kernelspec": {
      "name": "python3",
      "display_name": "Python 3"
    },
    "language_info": {
      "name": "python"
    }
  },
  "cells": [
    {
      "cell_type": "markdown",
      "metadata": {
        "id": "view-in-github",
        "colab_type": "text"
      },
      "source": [
        "<a href=\"https://colab.research.google.com/github/ev1025/SNS_Marketer/blob/main/%EB%A7%88%EC%BC%80%ED%84%B0_%EA%B5%AC%EA%B8%80%EC%95%84%EB%82%A0%EB%A6%AC%ED%8B%B1%EC%8A%A44.ipynb\" target=\"_parent\"><img src=\"https://colab.research.google.com/assets/colab-badge.svg\" alt=\"Open In Colab\"/></a>"
      ]
    },
    {
      "cell_type": "markdown",
      "source": [
        "- 적절한 타겟, 시간, 채널, 메세지를 잘 설정하면 마케팅을 잘할 수 있다.\n",
        "- 심슨패러독스 : 세그먼트를 나누지 않으면 잘못된 분석결과가 나올 수 있다\n",
        "- 스트림 : 데이터 출처(웹스트림, 안드로이드 스트림, ios스트림)\n",
        "- 전환정보는 직접 코드를 심어줘야 수집할 수 있다."
      ],
      "metadata": {
        "id": "COQ6IYcUqPYp"
      }
    },
    {
      "cell_type": "markdown",
      "source": [
        "**사용자 식별 방법**\n",
        "1. 구글 서비스의 고객정보를 사용\n",
        "2. 사이트의 로그인 정보를 사용\n",
        "3. 쿠키정보를 사용"
      ],
      "metadata": {
        "id": "JT9Kywt7PTlE"
      }
    },
    {
      "cell_type": "markdown",
      "source": [
        "### 계정"
      ],
      "metadata": {
        "id": "etHJdmZCyzkB"
      }
    },
    {
      "cell_type": "markdown",
      "source": [
        "\n",
        "- **권한주기** : 설정 - 계정엑세스 - 오른쪽위 + 에서 권한 줄 수있다.\n",
        "- **속성(Property)**\n",
        "    - 사이트별로 속성을 따로 만들어서 쓴다.(블로그, 홈페이지 등)\n",
        "    - 데이터스트림\n",
        "    - **추적코드 위치** : 설정 - 속성 - 데이터스트림 - 클릭 - 맨아래 태그안내보기 - 직접설치탭 - 복사 -> 헤더에 복붙\n",
        "    - 추적코드를 Header에 심는 이유는 모든 페이지의 데이터를 수집하기 위해서\n"
      ],
      "metadata": {
        "id": "_MP5wCxc7lVb"
      }
    },
    {
      "cell_type": "markdown",
      "source": [
        "### 보고서\n",
        "- 행 : 측정기준(Dimensions) / 열 : 측정항목(metrics)\n",
        "- 유저(인구통계학정보)\n",
        "- 기술(사용기기)"
      ],
      "metadata": {
        "id": "kJMLMm_gyw7B"
      }
    },
    {
      "cell_type": "markdown",
      "source": [
        "#### **용어**\n",
        "- 세션수(session_start 이벤트 트리거 수)([링크](https://support.google.com/analytics/answer/2731565?hl=ko#zippy=%2C%EC%9D%B4-%EB%8F%84%EC%9B%80%EB%A7%90%EC%97%90-%EB%82%98%EC%99%80-%EC%9E%88%EB%8A%94-%EB%82%B4%EC%9A%A9%EC%9D%80-%EB%8B%A4%EC%9D%8C%EA%B3%BC-%EA%B0%99%EC%8A%B5%EB%8B%88%EB%8B%A4))\n",
        "    - 방문 후 다음 방문까지 30분의 텀이 있어야한다.\n",
        "        - 하루종일 들어와 있으면 1session\n",
        "        - 아침, 점심, 저녁에 10분씩 들어와 있으면 3session\n",
        "- 참여 세션수(engagement session)\n",
        "    - 10초이상 페이지에 머물러있거나, 2회이상 페이지 조회한 경우 1세션으로 카운팅\n",
        "    - 30분이 지난 후에 또 +1세션\n",
        "\n",
        "- item : 항목(상품)\n",
        "\n"
      ],
      "metadata": {
        "id": "rJAZ2U0CbGBN"
      }
    },
    {
      "cell_type": "markdown",
      "source": [
        "#### **획득(채널)**\n",
        "- GA는 두 가지 정보를 수집함\n",
        "    - page_referrer(이전페이지 주소)\n",
        "    - page_location(현재 페이지 주소)\n",
        "- 트래픽획득\n",
        "    - 세션 기본채널그룹 : 위의 매체와 소스를 GA에서 묶어준것\n",
        "    - Source(유입출처) : 직전페이지 도메인(구글, 네이버..)\n",
        "    - 매체(medium)\n",
        "        - GA가 자동으로 수집할 수 있는 매체\n",
        "            - referrer가 없는 경우 : none (직접)\n",
        "            - referrer가 있는 경우 : organic(검색엔진), referrer(링크)\n",
        "        - 매체종류(수동으로 적용하는 경우 다 달라질 수 있다.)\n",
        "            - none/direct : 직접(주소창에 직접입력, referral(이전페이지주소)이 없는 경우)\n",
        "            - cpc : 광고를 타고 들어오는 경우(통상적으로 검색광고이나 배너광고도 들어갈 수 있다.)\n",
        "            - organic : 자연검색(검색엔진) + 검색광고\n",
        "                1. 네이버에 검색해서 공식홈 링크 누른 경우\n",
        "                2. 검색광고 (paid광고=파워링크같은거)\n",
        "                **GA는 이전 페이지 정보를 수집하여 매체를 구분한다.**   \n",
        "                - organic과 paid를 구분하지 못한다.\n",
        "                    - 이니스프리를 검색했을 때 공식홈링크, 파워링크의 이전 페이지가 같기 때문\n",
        "                    - page_location(현재페이지)에 캠페인을 심어서 유입을 구분할 수 있게 된다.\n",
        "            - referrer : 다른 웹사이트 링크로 유입(검색결과 페이지를 제외한 cpc로 지정되지 않은 모든 광고나 배너 링크들)    \n",
        "            - 사용자의 지정에 따라 제휴, 배너광고도 referrer이나 cpc가 될 수 있다.\n",
        "            - display : 배너광고 (주로 cpm, banner로 쓰나 cpc로도 쓸 수 있다.)\n",
        "            - affiliate : 제휴\n"
      ],
      "metadata": {
        "id": "OPNOmlYuHFxJ"
      }
    },
    {
      "cell_type": "markdown",
      "source": [
        "#### **참여도(액션)**\n",
        "- 이벤트(행동)\n",
        "    - 자동수집\n",
        "        - 첫 방문 : first_visit(처음만)\n",
        "        - 방문할 때 : session_start와 page_view가 카운팅됨\n",
        "        - user_engagement : 세션 카운팅 될때\n",
        "        - click : engagement측면으로 해석\n",
        "        - scoll 등\n",
        "    - 수동수집(직접 설정해줘야되는 데이터)\n",
        "        - 전환데이터(purchase, add to cart view item list 등..)\n",
        "        - CTA(Call To Action) : 장바구니, 프로모션,배너,컨텐츠 등\n",
        "    - 검색이 많이 된 검색어\n",
        "        - view_search_results를 검색하고, 보조측정기준으로 search_term을 선택\n",
        "        - view_search_results : 검색 액션\n",
        "        - search_term : 검색어를 기록함\n",
        "    - 가장 많이 사용된 결제방식\n",
        "        - perchase를 검색하고, 보조측정기준으로 payment_type을 선택\n",
        "- 이벤트 매개변수\n",
        "    - 이벤트에 추가적으로 수집할 수 있는 정보로 최대 25개 까지 추가 가능"
      ],
      "metadata": {
        "id": "vV0fWywP-dOD"
      }
    },
    {
      "cell_type": "markdown",
      "source": [
        "#### **수익창출(전환)**\n",
        "- 전자상거래 구매 : 구매상품 이름을 나타냄\n"
      ],
      "metadata": {
        "id": "WsEmeK_MILBw"
      }
    },
    {
      "cell_type": "markdown",
      "source": [
        "#### Campaign\n",
        "- term : 검색어\n",
        "- content : 광고 구분값(광고 분류기준)\n",
        "- source : 이전 도메인\n",
        "- medium : 유입경로"
      ],
      "metadata": {
        "id": "qoQGoV1yKzrG"
      }
    },
    {
      "cell_type": "markdown",
      "source": [
        "**데이터 분석법**\n",
        "1. 매출이 가장 높게 나온 것에 집중한다."
      ],
      "metadata": {
        "id": "x_SYd8g7jjRz"
      }
    }
  ]
}