{
  "nbformat": 4,
  "nbformat_minor": 0,
  "metadata": {
    "colab": {
      "provenance": [],
      "authorship_tag": "ABX9TyPzx6tTDAS3jnftIQwu4cyl",
      "include_colab_link": true
    },
    "kernelspec": {
      "name": "python3",
      "display_name": "Python 3"
    },
    "language_info": {
      "name": "python"
    }
  },
  "cells": [
    {
      "cell_type": "markdown",
      "metadata": {
        "id": "view-in-github",
        "colab_type": "text"
      },
      "source": [
        "<a href=\"https://colab.research.google.com/github/ev1025/SNS_Marketer/blob/main/SNS%EB%A7%88%EC%BC%80%ED%84%B0.ipynb\" target=\"_parent\"><img src=\"https://colab.research.google.com/assets/colab-badge.svg\" alt=\"Open In Colab\"/></a>"
      ]
    },
    {
      "cell_type": "markdown",
      "source": [
        "# 디지털 마케팅 (1일~2일차)"
      ],
      "metadata": {
        "id": "clrQKCde0H6r"
      }
    },
    {
      "cell_type": "markdown",
      "source": [
        "**많이 사용하는 지표**\n",
        "- LTV(Life Time Value): 고객생애가치\n",
        "- ROI(Return of Invest) : 수익\n",
        "- ROAS(Reteurn on Advertising Spend) : 광고수익률\n",
        "- Payback period : 투자금 회수되는 기간\n",
        "- CAC(Customer Acquisition Cost) : 고객 유치 비용\n",
        "    - CAC를 역으로 생각해서 필요한 마케팅 비용을 측정할 수 있음\n",
        "    - 초반일수록 CAC를 적극적으로 투자\n",
        "\n"
      ],
      "metadata": {
        "id": "7txnd6drxglx"
      }
    },
    {
      "cell_type": "markdown",
      "source": [
        "**마케팅 용어 ([링크1](https://brunch.co.kr/@edte1020/85))([링크2](https://www.haebom.dev/3d6f4b7e-0847-481c-8727-7376b944208d))**\n",
        "- ARPPU(Average Revenue Per Paying User) : 일정기간동안 모든 유저의 평균 결제 비용\n",
        "- ARPU(Average Revenue Per User) : 일정 기간동안 결제한 유저의 평균 결제 금액\n",
        "- CVR(Conversion Rate) : 전환률\n",
        "- DAU / MAU : 방문빈도를 확인할 수 있다.\n",
        "- 더 좋은 콘텐츠란 무엇인가? (댓글 > 좋아요 > 조회)\n",
        "- CDJ or CEJ : 고객 여정\n",
        "- OMTM(One Metric That Matters) : 지금 가장 중요한 지표\n",
        "- North Star Metric : 스타트업에서 KPI 대신 쓰는 용어\n",
        "- 벤치마크데이터 : 이정도면 괜찮다 하는 매출\n",
        "- 아하 모먼트 : 제품의 가치를 처음으로 느끼는 순간\n"
      ],
      "metadata": {
        "id": "UlJDuRu7xgv_"
      }
    },
    {
      "cell_type": "markdown",
      "source": [
        "**퍼널**\n",
        "- 퍼널에서 재구매에 대해서 잘 알 수 있으면 좋음\n",
        "- Marketing Qualified Lead(MQL) : 고객 데이터를 얻어내는것?(인원수를 넣으면 평수를 보여주는 것)\n",
        "- Sales Qualified Lead(SQL) : 세일즈팀에서 진짜고객을 걸러내는 작업"
      ],
      "metadata": {
        "id": "G7SjMXWT5nQq"
      }
    },
    {
      "cell_type": "markdown",
      "source": [
        "**마케팅의 변천사**\n",
        "1. 마켓 1.0 :  공급자 / 제품 중심 (없던 제품을 만들어서 판매)\n",
        "2. 마켓 2.0 : 고객 / 니즈 중심 (고객이 원하는 것을 분석하여 판매)\n",
        "3. 마켓 3.0 : 관계 / 브랜딩 중심 ( 감성을 자극하는 캠페인, 장기적이고 지속가능한 관계 구축 - 10만원짜리 치약을 친구 중 한 명은 산다)\n",
        "4. 마켓 4.0 : 데이터 중심 (콘텐츠, 프로모션으로 메세지 전달)\n",
        "5. 마켓 5.0 : AI중심 (아직 상용화 되진 않음)"
      ],
      "metadata": {
        "id": "pf67wjjv9B9u"
      }
    },
    {
      "cell_type": "markdown",
      "source": [
        "**좋은 콘텐츠를 발견했을 때**\n",
        "- Keep(좋다고 생각 하는것), Problem(안좋다고 생각하는 것), Try(시도해보고 싶은 것) 나열해보기"
      ],
      "metadata": {
        "id": "cnUF7CoqmGsQ"
      }
    },
    {
      "cell_type": "markdown",
      "source": [
        "**노코드/로우코드**\n",
        "- 홈페이지 : 버블"
      ],
      "metadata": {
        "id": "yD3IokM7Ye8x"
      }
    },
    {
      "cell_type": "markdown",
      "source": [
        "### 알고리즘"
      ],
      "metadata": {
        "id": "FvNWweermG6R"
      }
    },
    {
      "cell_type": "markdown",
      "source": [
        "**네이버(소비자가 찾는 내용, 컨텐츠)**\n",
        "- 질 좋은 컨텐츠 : 게시물에서의 체류시간, 좋아요, 댓글\n",
        "- 네이버 광고 : 고객이 키워드를 통해 찾고자 하는 내용을 생각해야함\n",
        "- Naver Search & Tech 공식 블로그 보기\n"
      ],
      "metadata": {
        "id": "sU0K2A52cOO1"
      }
    },
    {
      "cell_type": "markdown",
      "source": [
        "**유튜브(광고, 시청시간)**\n",
        "- 큐레이트(개개인의 뷰) : 페르소나에 따라 달라지기 때문에\n",
        "- 콘텐츠 퀄리티\n",
        "- 유튜브에서 계정추가 해서 페르소나가 좋아할만한 것들을 좋아요 눌러서 관심사 알아보기(큐레이팅 알아보기)\n",
        "- 3b : beaty baby beast가 있는 콘텐츠는 잘됨"
      ],
      "metadata": {
        "id": "-X8B-WZkgusE"
      }
    },
    {
      "cell_type": "markdown",
      "source": [
        "**인스타(광고, DAU)**\n",
        "1. 커뮤니티존속 최우선 : 커뮤니티를 생성함(비슷한 사람이 모임)\n",
        "2. 영감을주는 콘텐츠(중요) -> 액션을 유도\n",
        "3. 단순화\n",
        "4. 인플루언서 마케팅: 네이티브 콘텐츠(다회성, 자연스러움, 솔직함, 스토리가 있는)\n",
        "5. 겹치지 않는(미시) 데이터를 30개 만들어보기\n"
      ],
      "metadata": {
        "id": "A3LZ17GdidhO"
      }
    },
    {
      "cell_type": "markdown",
      "source": [
        "페이스북(광고, DAU)\n",
        "- 북극성지표(North Star Metric)\n",
        "    - DAU, MAU"
      ],
      "metadata": {
        "id": "sVk0WXxjlHnB"
      }
    },
    {
      "cell_type": "markdown",
      "source": [
        "**크롬의 Meta fixel helper**\n",
        "- 로그데이터 state를 볼 수 있음\n"
      ],
      "metadata": {
        "id": "NwAFqHck_zy6"
      }
    },
    {
      "cell_type": "markdown",
      "source": [
        "**카노모델**\n",
        "- 서비스의 한계효용 설명\n",
        "- 서비스와 프러덕트가 디벨롭 되는 순간 아하 모먼트가 당연해지는 순간으로 바뀐다.\n",
        "=> 프로덕트는 계속 디벨롭 해야된다."
      ],
      "metadata": {
        "id": "ypaXY--8ArAI"
      }
    },
    {
      "cell_type": "markdown",
      "source": [
        "**여성 중심의 비즈니스가 되고 있음(남성에 대한 타게팅이 효과가 없음)**"
      ],
      "metadata": {
        "id": "NRJRaG74CPJr"
      }
    },
    {
      "cell_type": "markdown",
      "source": [
        "- 정성 데이터(Qualitative data) : 표현& 해석이 가능한 데이터 (감정)\n",
        "    - 액션을 불러와야한다.\n",
        "    - 정량데이터로 숫자화 하는게 좋다.\n",
        "    - 수집 방법\n",
        "        - In-depth interview(1:1)\n",
        "        - Focus Group interview(다:1)\n",
        "        - Usability testing(고객에게 설정을 주고 진행)\n",
        "        - A/B testing\n",
        "- 정량 데이터(Quantitavtive data) : 측정 & 비교 가능한 데이터(측량가능한 데이터) - 문제만 남긴다."
      ],
      "metadata": {
        "id": "FLeqlDjdDett"
      }
    },
    {
      "cell_type": "markdown",
      "source": [
        "**앱 분석 사이트**\n",
        "- 마케팅 클라우드\n",
        "- 모바일 인덱스\n",
        "- 블랙키위 : 섹션 순서를 통해서 높은 순위의 키워드가 뭔지 보고 그쪽으로 광고"
      ],
      "metadata": {
        "id": "xwUhPmTkgIg5"
      }
    },
    {
      "cell_type": "code",
      "source": [
        "고객 인사이트\n",
        "마케팅 클라우드 : https://mktcloud.igaworks.com/\n",
        "모바일 인덱스 : https://www.mobileindex.com/insight-report\n",
        "뤼튼 / Chat GPT : https://wrtn.ai/\n",
        "\n",
        "매거진\n",
        "비쥬얼 다이브 : https://www.visualdive.com/\n",
        "하버드비즈니스리뷰 : https://www.hbrkorea.com/\n",
        "동아비즈니스리뷰 : https://dbr.donga.com/\n",
        "롱블랙 : https://www.longblack.co/\n",
        "\n",
        "SNS / 광고 현황\n",
        "메타 광고 라이브러리 : https://www.facebook.com/ads/library/\n",
        "구글 리치 미디어 갤러리 : https://www.richmediagallery.com/\n",
        "FYM : https://fym.im/reference/searchKeyword/startDate/mediaName/mediaProduct\n",
        "AAGAG : https://aagag.com/ (최근 24시간 안에 가장 핫한 것을 볼 수 있음)\n",
        "틱톡 : https://www.tiktok.com/business/en/inspiration?industry=clothing-%26-accessories\n",
        "\n",
        "데이터 분석\n",
        "네이버 데이터랩 : https://datalab.naver.com/\n",
        "통계청 : https://kostat.go.kr/statDesc.es?mid=a10501010000\n",
        "국가 통계 포털 : https://kosis.kr/  / https://kosis.kr/visual/nsportalStats/main.do Visual\n",
        "썸트렌드 : https://some.co.kr/analysis/social/mention\n",
        "앱 서비스 분석 : https://www.wiseapp.co.kr/\n",
        "앱 서비스 분석(게임 강화) : https://sensortower.com/ko\n",
        "\n",
        "오프라인\n",
        "마켓핏랩\n",
        "MAU Vegas\n",
        "Max Summit\n",
        "DMS(Digital Marketing Summit)\n",
        "대학내일 트렌드 컨퍼런스\n",
        "\n",
        "PDF\n",
        "수도 없이 나옴…\n",
        "\n",
        "인플루언서\n",
        "페이스북 – 심슨\n",
        "인스타그램 – 제레팍\n",
        "…\n"
      ],
      "metadata": {
        "id": "YZhg3MvANupx"
      },
      "execution_count": null,
      "outputs": []
    },
    {
      "cell_type": "markdown",
      "source": [
        "- 우리 주 고객군이 좋아하는 인플루언서의 컨텐츠를 컨텐츠에 포함시키면 좋다.\n",
        "- 10대의 모방소비(생각) - 앱을 까는걸 좋아하지 않음, 택배비아끼고 싶어함, 바로 갖고 싶어함"
      ],
      "metadata": {
        "id": "MQ87EHMmN4Gi"
      }
    },
    {
      "cell_type": "markdown",
      "source": [
        "[마인드맵](https://www.mindmeister.com/map/2827034689)"
      ],
      "metadata": {
        "id": "Cl3BJDR1ARHG"
      }
    },
    {
      "cell_type": "markdown",
      "source": [
        "# ㅇㅇ\n"
      ],
      "metadata": {
        "id": "NmrQr9H2mgui"
      }
    }
  ]
}