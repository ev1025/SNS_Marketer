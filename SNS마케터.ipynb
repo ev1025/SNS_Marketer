{
  "nbformat": 4,
  "nbformat_minor": 0,
  "metadata": {
    "colab": {
      "provenance": [],
      "authorship_tag": "ABX9TyOa39HRAdDxfgcOMTQou710",
      "include_colab_link": true
    },
    "kernelspec": {
      "name": "python3",
      "display_name": "Python 3"
    },
    "language_info": {
      "name": "python"
    }
  },
  "cells": [
    {
      "cell_type": "markdown",
      "metadata": {
        "id": "view-in-github",
        "colab_type": "text"
      },
      "source": [
        "<a href=\"https://colab.research.google.com/github/ev1025/SNS_Marketer/blob/main/SNS%EB%A7%88%EC%BC%80%ED%84%B0.ipynb\" target=\"_parent\"><img src=\"https://colab.research.google.com/assets/colab-badge.svg\" alt=\"Open In Colab\"/></a>"
      ]
    },
    {
      "cell_type": "markdown",
      "source": [
        "# 디지털 마케팅"
      ],
      "metadata": {
        "id": "clrQKCde0H6r"
      }
    },
    {
      "cell_type": "markdown",
      "source": [
        "**많이 사용하는 지표**\n",
        "- LTV(Life Time Value): 고객생애가치\n",
        "- ROI(Return of Invest) : 수익\n",
        "- ROAS(Reteurn on Advertising Spend) : 광고수익률\n",
        "- Payback period : 투자금 회수되는 기간\n",
        "- CAC(Customer Acquisition Cost) : 고객 유치 비용\n",
        "    - CAC를 역으로 생각해서 필요한 마케팅 비용을 측정할 수 있음\n",
        "    - 초반일수록 CAC를 적극적으로 투자\n",
        "\n"
      ],
      "metadata": {
        "id": "7txnd6drxglx"
      }
    },
    {
      "cell_type": "markdown",
      "source": [
        "- ARPPU(Average Revenue Per Paying User) : 일정기간동안 모든 유저의 평균 결제 비용\n",
        "- ARPU(Average Revenue Per User) : 일정 기간동안 결제한 유저의 평균 결제 금액\n",
        "- CVR(Conversion Rate) : 전환률\n",
        "- DAU / MAU : 방문빈도를 확인할 수 있다.\n",
        "- 더 좋은 콘텐츠란 무엇인가? (댓글 > 좋아요 > 조회)\n"
      ],
      "metadata": {
        "id": "UlJDuRu7xgv_"
      }
    },
    {
      "cell_type": "markdown",
      "source": [
        "**퍼널**\n",
        "- 퍼널에서 재구매에 대해서 잘 알 수 있으면 좋음\n",
        "- Marketing Qualified Lead(MQL) : 고객 데이터를 얻어내는것?(인원수를 넣으면 평수를 보여주는 것)\n",
        "- Sales Qualified Lead(SQL) : 세일즈팀에서 진짜고객을 걸러내는 작업"
      ],
      "metadata": {
        "id": "G7SjMXWT5nQq"
      }
    },
    {
      "cell_type": "markdown",
      "source": [
        "**마케팅의 변천사**\n",
        "1. 마켓 1.0 :  공급자 / 제품 중심 (없던 제품을 만들어서 판매)\n",
        "2. 마켓 2.0 : 고객 / 니즈 중심 (고객이 원하는 것을 분석하여 판매)\n",
        "3. 마켓 3.0 : 관계 / 브랜딩 중심 ( 감성을 자극하는 캠페인, 장기적이고 지속가능한 관계 구축 - 10만원짜리 치약을 친구 중 한 명은 산다)\n",
        "4. 마켓 4.0 :\n",
        "5. 마켓 5.0"
      ],
      "metadata": {
        "id": "pf67wjjv9B9u"
      }
    }
  ]
}