{
  "nbformat": 4,
  "nbformat_minor": 0,
  "metadata": {
    "colab": {
      "provenance": [],
      "authorship_tag": "ABX9TyPbA+fVcHq4Ar8oMcnZOY6u",
      "include_colab_link": true
    },
    "kernelspec": {
      "name": "python3",
      "display_name": "Python 3"
    },
    "language_info": {
      "name": "python"
    }
  },
  "cells": [
    {
      "cell_type": "markdown",
      "metadata": {
        "id": "view-in-github",
        "colab_type": "text"
      },
      "source": [
        "<a href=\"https://colab.research.google.com/github/ev1025/SNS_Marketer/blob/main/%EB%A7%88%EC%BC%80%ED%84%B0_PPT_%EC%8B%A4%EB%AC%B4.ipynb\" target=\"_parent\"><img src=\"https://colab.research.google.com/assets/colab-badge.svg\" alt=\"Open In Colab\"/></a>"
      ]
    },
    {
      "cell_type": "markdown",
      "source": [
        "**기초 옵션**\n",
        "- 옵션 - 언어교정 - 입력할 때 자동 맞춤법 검사 해제\n",
        "- 옵션 - 저장 - 파일의 글꼴 포함\n",
        "- 옵션 - 고급 - 실행 최대 횟수(되돌리기 할 수 있는 횟수)\n",
        "- 옵션 - 리본 사용자 지정 - 리본메뉴에 없는 명령(카테고리) - 도형 관련 많이 쓰임\n"
      ],
      "metadata": {
        "id": "7DHu9PNKRpma"
      }
    },
    {
      "cell_type": "markdown",
      "source": [
        "**단축키**\n",
        "- 슬라이드 복제 : 슬라이드 누르고 Ctrl+D\n",
        "- 도형 단축키\n",
        "    - 도형 Shift + 드래그 : 평행하게 이동\n",
        "    - Ctrl + Shift + 드래그 : 평평하게 복사\n",
        "    - Ctrl + Shift + 크기 드래그 : 중심을 기준으로 크기 변경 (비율 변화 X)\n",
        "    - Alt + 화살표 : 15도씩 기울기"
      ],
      "metadata": {
        "id": "47vPG1PAR393"
      }
    },
    {
      "cell_type": "markdown",
      "source": [
        "**폰트 ([링크](https://noonnu.cc/))**\n",
        "- 다운로드 후 더블클릭 해서 설치하면 자동으로 ppt에 폰트 삽입 됨\n",
        "- 현재 사용중인 폰트를 폰트로 설정하려면 텍스트 상자 우클릭-> '기본텍스트 상자로 설정'\n",
        "    - 커서가 깜빡일 때 우클릭하면 안보임\n",
        "    - 새 페이지 만들었을 때 텍스트상자에는 적용되지 않음\n",
        "- 유명한 글씨체\n",
        "    - 배달의민족 - 주아체, 도현체\n",
        "    - 카페 24\n",
        "    - 나눔 스퀘어\n",
        "    - 여기어때\n"
      ],
      "metadata": {
        "id": "N1H8PlYdR3q3"
      }
    },
    {
      "cell_type": "markdown",
      "source": [
        "**카드뉴스**\n",
        "- 디자인 - 사용자지정 - 슬라이드 크기 - 방향(세로,세로), 25cm로 변경\n",
        "- 삽입 - 그림 삽입\n",
        "- 그림 서식메뉴 - 오른쪽 끝에 자르기 - 가로세로비율 - 1:1\n",
        "- 어도비컬러(사이트)\n",
        "    - 테마추출에 사진 넣으면 색상추출해줌\n",
        "    - 트랜드 텝에서 전문가 색상을 볼 수 있음\n",
        "- 네이버 QR코드 만들어서 넣어주면 좋음\n"
      ],
      "metadata": {
        "id": "H9gO3vsDR3zo"
      }
    },
    {
      "cell_type": "markdown",
      "source": [
        "**도형**\n",
        "- 도형 결합, 병합, 조각 그림채우기 등등으로 모양 만들 수 있음\n",
        "- 도형 빼기는 먼저 누른게 남아있고 이후에 넣은게 없어짐\n"
      ],
      "metadata": {
        "id": "tdwqAFQRmwyV"
      }
    }
  ]
}