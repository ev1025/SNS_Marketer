{
  "nbformat": 4,
  "nbformat_minor": 0,
  "metadata": {
    "colab": {
      "provenance": [],
      "authorship_tag": "ABX9TyPzpA5h1ihgACXKGJ/4Twa5",
      "include_colab_link": true
    },
    "kernelspec": {
      "name": "python3",
      "display_name": "Python 3"
    },
    "language_info": {
      "name": "python"
    }
  },
  "cells": [
    {
      "cell_type": "markdown",
      "metadata": {
        "id": "view-in-github",
        "colab_type": "text"
      },
      "source": [
        "<a href=\"https://colab.research.google.com/github/ev1025/SNS_Marketer/blob/main/%EB%A7%88%EC%BC%80%ED%84%B0_%ED%8E%98%EC%9D%B4%EC%8A%A4%EB%B6%81(%EC%9D%B8%EC%8A%A4%ED%83%80%20%EC%A1%B0%EA%B8%88).ipynb\" target=\"_parent\"><img src=\"https://colab.research.google.com/assets/colab-badge.svg\" alt=\"Open In Colab\"/></a>"
      ]
    },
    {
      "cell_type": "markdown",
      "source": [
        "**광고**\n",
        "- 인스타그램 광고만 이용할 경우 스마트폰으로 할 것\n",
        "- 페이스북까지 광고할거면 컴퓨터로 할 것\n"
      ],
      "metadata": {
        "id": "VkfdsFXPdct2"
      }
    },
    {
      "cell_type": "markdown",
      "source": [
        "- 랜딩페이지 : 한 페이지에서 결과까지 보여주는 경우를 이야기하기도 한다.\n",
        "- 키워드 광고 : 네이버, 카카오, 구글 이용 (제품 판매)\n",
        "- 코호트 나눠서 광고 : 인스타, 페이스북, 유튜브 (이벤트나 프로모션을 해야 유입이 많이 됨, 식당이나 장소)\n",
        "- 기획자는 카피라이터, 디자인 팀에 필요한 사이즈 제공(광고 태우는 사람에게 필요한 사이즈를 받아서[사이즈 모아둘 것])"
      ],
      "metadata": {
        "id": "borJy-AKiSEr"
      }
    },
    {
      "cell_type": "markdown",
      "source": [
        "**키워드 광고**\n",
        "- 몇 천개의 키워드를 뽑음\n",
        "- 객단가가 높은 제품일수록 비쌈\n",
        "- 가입 전환률 단가는 7~8000원인 경우가 정도 많음(그래서 가입하면 기프트콘 주는 것)\n",
        "- 핵심 키워드 : 700~5000원대\n",
        "- 주요 키워드 : 200~700원대\n",
        "- 연관 키워드 : 70~-200원대"
      ],
      "metadata": {
        "id": "VSo1nZfrwH2g"
      }
    },
    {
      "cell_type": "markdown",
      "source": [
        "- 네이버는 몇 줄 이상 같은 내용의 게시글을 블럭처리 함\n",
        "    - 네이버 웹문서,지식인,블로그,카페 내에서 중복인 글을 트래킹당함\n",
        "    - 내가 카페에 올린걸 블로그에 옮겨도 블럭당함"
      ],
      "metadata": {
        "id": "j3tErEijLa_M"
      }
    },
    {
      "cell_type": "markdown",
      "source": [
        "**모르는 분야에 대한 마케팅**\n",
        "- 관련 벤치마킹을 통해 만들고 공부를 통해 차별화된 컨텐츠를 광고주에게 보여줌"
      ],
      "metadata": {
        "id": "Ajnc0zZ4M_Gb"
      }
    },
    {
      "cell_type": "markdown",
      "source": [
        "**페이스북 계정**\n",
        "- 개인계정\n",
        "    - 팔로워는 5천명으로 제한됨\n",
        "- 그룹\n",
        "    - 가입하기 버튼이 있음(네이버 카페처럼)\n",
        "    - 초대하기가 기능이 있음(초대 거절이 많으면 초대하기 정지를 먹음)\n",
        "    - 가입자들이 글을 올릴 수 있음\n",
        "- 페이지 (페이스북 광고)\n",
        "    - 기업계정, 유명인, 팬페이지 계정\n",
        "    - 광고를 집행하고 인사이트 통계를 볼 수 있다.\n",
        "    - 이름 변경에 3일정도 소요됨\n",
        "    - 관리자 권한 부여할 때 이름으로 해야함\n",
        "        - 아이디 검색 잘안됨\n",
        "        - 프로페셔널 대시보드 - 파일 엑세스"
      ],
      "metadata": {
        "id": "3wiA2xiHR5VA"
      }
    },
    {
      "cell_type": "markdown",
      "source": [
        "**인스타그램**\n",
        "- 링크는 프로필에서만 가능함\n",
        "- 인스타그램 쇼핑태그\n",
        "    - 페이스북 페이지에 태그를 올림\n",
        "    - 인스타그램에 태그를 연동하면 페이스북 페이지와 연결이 됨\n",
        "- 프로페셔널 계정 전환\n",
        "    - 연락처 옵션에서 번호 등록하고 연락처 표시하면 프로필에 전화번호 연락 버튼이 나옴\n",
        "    - 프로필 편집 - 페이지 연결하면 페이스북 연결 됨\n",
        "    - 광고도구에서 타겟 관심사는 포괄적으로 선택할 것"
      ],
      "metadata": {
        "id": "fqvHExIw54b_"
      }
    }
  ]
}