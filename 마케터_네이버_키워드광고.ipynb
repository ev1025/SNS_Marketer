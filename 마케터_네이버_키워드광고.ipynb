{
  "nbformat": 4,
  "nbformat_minor": 0,
  "metadata": {
    "colab": {
      "provenance": [],
      "authorship_tag": "ABX9TyMt+GvWmCScIOV3RVp7+z9j",
      "include_colab_link": true
    },
    "kernelspec": {
      "name": "python3",
      "display_name": "Python 3"
    },
    "language_info": {
      "name": "python"
    }
  },
  "cells": [
    {
      "cell_type": "markdown",
      "metadata": {
        "id": "view-in-github",
        "colab_type": "text"
      },
      "source": [
        "<a href=\"https://colab.research.google.com/github/ev1025/SNS_Marketer/blob/main/%EB%A7%88%EC%BC%80%ED%84%B0_%EB%84%A4%EC%9D%B4%EB%B2%84_%ED%82%A4%EC%9B%8C%EB%93%9C%EA%B4%91%EA%B3%A0.ipynb\" target=\"_parent\"><img src=\"https://colab.research.google.com/assets/colab-badge.svg\" alt=\"Open In Colab\"/></a>"
      ]
    },
    {
      "cell_type": "markdown",
      "source": [
        "**사람의 집중도는 7초, 컨텐츠를 7초 안에 끝내는게 좋다.**"
      ],
      "metadata": {
        "id": "9yawP7rfJALo"
      }
    },
    {
      "cell_type": "markdown",
      "source": [
        "- S.A(Search AD) : 검색광고\n",
        "- D.A(Display AD) : 배너광고"
      ],
      "metadata": {
        "id": "g-pyom8EN1d5"
      }
    },
    {
      "cell_type": "markdown",
      "source": [
        "**검색광고**\n",
        "- 켜고, 끄고 실시간으로 가능\n",
        "- 배너보다 상대적으로 저렴\n",
        "- 입찰가 : 최대로 낼 수 있는 금액\n",
        "- 실제 과금금액 : 차순위의 금액 + 10원\n",
        "- 경쟁사의 금액을 알아서내서 10원 싸게 올리면, 경쟁사의 광고요금을 소진시킬 수 있음\n",
        "- 광고금액이 같을 경우 품질지수가 높은(클릭수가 높거나 기간이 오래된 회사가 노출)\n"
      ],
      "metadata": {
        "id": "jJz_UM0dRdDB"
      }
    },
    {
      "cell_type": "markdown",
      "source": [
        "**파워링크**\n",
        "- 웹\n",
        "    - 1~7위만 이미지, 확장소재 노출(이미지, 제목, 메뉴)\n",
        "    -  8~10위는 40글자만 노출\n",
        "- 앱\n",
        "    - 1~3위만 노출\n",
        "\n",
        "**브랜드 검색광고**\n",
        "- 자사 이름으로 이미지 뜨는것\n",
        "- 직전 30일 트래픽 기준으로 고정가격(클릭 수 상관 없음)\n",
        "- 50만원~2억\n",
        "\n",
        "**쇼핑 검색광고**\n",
        "- 상품에 따라서 알아서 연동, 키워드 상관 X\n",
        "\n",
        "**지역소상공인광고**\n",
        "- 뚝섬맛집 - 지도에 광고 붙어있는거\n",
        "\n",
        "**브랜드 콘텐츠 광고**\n",
        " - \"ㅇㅇ\"관련 광고가 붙어있는 게시글\n"
      ],
      "metadata": {
        "id": "xCk5_QfjbNi-"
      }
    },
    {
      "cell_type": "markdown",
      "source": [
        "**사이트 검색광고 구조 : 캠페인 - 그룹(세트) - 소재(픽셀)**"
      ],
      "metadata": {
        "id": "mehVw2M_bhE-"
      }
    }
  ]
}