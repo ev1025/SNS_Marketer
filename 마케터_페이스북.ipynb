{
  "nbformat": 4,
  "nbformat_minor": 0,
  "metadata": {
    "colab": {
      "provenance": [],
      "authorship_tag": "ABX9TyOHZw2E1PN3yzk+zzIQ1KvG",
      "include_colab_link": true
    },
    "kernelspec": {
      "name": "python3",
      "display_name": "Python 3"
    },
    "language_info": {
      "name": "python"
    }
  },
  "cells": [
    {
      "cell_type": "markdown",
      "metadata": {
        "id": "view-in-github",
        "colab_type": "text"
      },
      "source": [
        "<a href=\"https://colab.research.google.com/github/ev1025/SNS_Marketer/blob/main/%EB%A7%88%EC%BC%80%ED%84%B0_%ED%8E%98%EC%9D%B4%EC%8A%A4%EB%B6%81.ipynb\" target=\"_parent\"><img src=\"https://colab.research.google.com/assets/colab-badge.svg\" alt=\"Open In Colab\"/></a>"
      ]
    },
    {
      "cell_type": "markdown",
      "source": [
        "**광고**\n",
        "- 인스타그램 광고만 이용할 경우 스마트폰으로 할 것\n",
        "- 페이스북까지 광고할거면 컴퓨터로 할 것\n"
      ],
      "metadata": {
        "id": "VkfdsFXPdct2"
      }
    },
    {
      "cell_type": "markdown",
      "source": [
        "- 랜딩페이지 : 한 페이지에서 결과까지 보여주는 경우를 이야기하기도 한다.\n",
        "- 키워드 광고 : 네이버, 카카오, 구글 이용 (제품 판매)\n",
        "- 코호트 나눠서 광고 : 인스타, 페이스북, 유튜브 (이벤트나 프로모션을 해야 유입이 많이 됨, 식당이나 장소)\n",
        "- 기획자는 카피라이터, 디자인 팀에 필요한 사이즈 제공(광고 태우는 사람에게 필요한 사이즈를 받아서[사이즈 모아둘 것])"
      ],
      "metadata": {
        "id": "borJy-AKiSEr"
      }
    },
    {
      "cell_type": "markdown",
      "source": [
        "**키워드 광고**\n",
        "- 몇 천개의 키워드를 뽑음\n",
        "- 객단가가 높은 제품일수록 비쌈\n",
        "- 가입 전환률 단가는 7~8000원인 경우가 정도 많음(그래서 가입하면 기프트콘 주는 것)\n",
        "- 핵심 키워드 : 700~5000원대\n",
        "- 주요 키워드 : 200~700원대\n",
        "- 연관 키워드 : 70~-200원대"
      ],
      "metadata": {
        "id": "VSo1nZfrwH2g"
      }
    }
  ]
}