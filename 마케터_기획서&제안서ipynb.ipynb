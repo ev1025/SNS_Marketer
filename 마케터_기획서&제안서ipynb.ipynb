{
  "nbformat": 4,
  "nbformat_minor": 0,
  "metadata": {
    "colab": {
      "provenance": [],
      "authorship_tag": "ABX9TyOZw1NnFtrVlCEM8gd1fpmK",
      "include_colab_link": true
    },
    "kernelspec": {
      "name": "python3",
      "display_name": "Python 3"
    },
    "language_info": {
      "name": "python"
    }
  },
  "cells": [
    {
      "cell_type": "markdown",
      "metadata": {
        "id": "view-in-github",
        "colab_type": "text"
      },
      "source": [
        "<a href=\"https://colab.research.google.com/github/ev1025/SNS_Marketer/blob/main/%EB%A7%88%EC%BC%80%ED%84%B0_%EA%B8%B0%ED%9A%8D%EC%84%9C%26%EC%A0%9C%EC%95%88%EC%84%9Cipynb.ipynb\" target=\"_parent\"><img src=\"https://colab.research.google.com/assets/colab-badge.svg\" alt=\"Open In Colab\"/></a>"
      ]
    },
    {
      "cell_type": "markdown",
      "source": [
        "**기획서**\n",
        "- 말그대로 광고제안 (크리에이티브, 공익)\n",
        "- 기획 제안"
      ],
      "metadata": {
        "id": "hiNu2XwJlIOQ"
      }
    },
    {
      "cell_type": "markdown",
      "source": [
        "**제안서**\n",
        "- 수치데이터가 반드시 들어가야한다.\n",
        "- 퍼포먼스마케팅 + 기획서\n",
        "- 작성방법\n",
        "    - 광고비는 정해져 있으므로 건들 수 없음\n",
        "    - 광고주가 원하는 ROAS에 광고비를 곱해서 원하는 매출을 구함\n",
        "    - 성과가 낮은 광고의 비용을 빼서 다른 부분에 광고를 해서 높이겠다는 전략을 보여줌\n",
        "- 타겟별 사용하는 채널 분석\n",
        "- 타겟별 사용하는 채널에 판매 상품 다르게 구성"
      ],
      "metadata": {
        "id": "O0AN5qTqlMTX"
      }
    },
    {
      "cell_type": "markdown",
      "source": [
        "- USP(Unique Selling Proposition) : 제품의 장점을 어필하는게 가장 중요한 광고전략\n",
        "- STP"
      ],
      "metadata": {
        "id": "YFltrRX1lIqX"
      }
    }
  ]
}